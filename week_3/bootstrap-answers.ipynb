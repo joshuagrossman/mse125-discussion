{
 "cells": [
  {
   "cell_type": "markdown",
   "metadata": {},
   "source": [
    "# Week 3 Discussion: The Bootstrap"
   ]
  },
  {
   "cell_type": "markdown",
   "metadata": {},
   "source": [
    "![sf-boots](img/sf-boots.jpg)"
   ]
  },
  {
   "cell_type": "code",
   "execution_count": null,
   "metadata": {},
   "outputs": [],
   "source": [
    "set.seed(125)\n",
    "\n",
    "library(tidyverse)\n",
    "\n",
    "theme_set(theme_bw())"
   ]
  },
  {
   "cell_type": "markdown",
   "metadata": {},
   "source": [
    "## Setup\n",
    "\n",
    "For this section, we will work with salary data from 2014 for SF city employees \n",
    "(derived from the \n",
    "[Kaggle SF Salaries dataset](https://www.kaggle.com/kaggle/sf-salaries))."
   ]
  },
  {
   "cell_type": "code",
   "execution_count": null,
   "metadata": {},
   "outputs": [],
   "source": [
    "# The data can be downloaded from: \n",
    "# https://5harad.com/mse125/discussions/week_3/sf_salaries2014.tsv\n",
    "salaries <- read_tsv(\"https://raw.githubusercontent.com/stanford-policylab/mse125/main/week_3/sf_salaries2014.tsv\")\n",
    "\n",
    "# peek at 5 random rows\n",
    "sample_n(salaries, 5)"
   ]
  },
  {
   "cell_type": "code",
   "execution_count": null,
   "metadata": {},
   "outputs": [],
   "source": [
    "nrow(salaries)"
   ]
  },
  {
   "cell_type": "markdown",
   "metadata": {},
   "source": [
    "According to the data, SF city had 37,427 employees in the year 2014"
   ]
  },
  {
   "cell_type": "markdown",
   "metadata": {},
   "source": [
    "For observations that are likely to have extreme outliers, such as salary data,\n",
    "a common statistic of interest is the median. \n",
    "\n",
    "Since we have all the data, we can easily compute the **true** median \n",
    "base salary for SF city employees in 2014."
   ]
  },
  {
   "cell_type": "markdown",
   "metadata": {},
   "source": [
    "### Warm up\n",
    "\n",
    "Compute the median, mean, sd, minimum, and maximum salary in SF in 2014. Which job(s) have the lowest pay? Which have the highest pay?"
   ]
  },
  {
   "cell_type": "code",
   "execution_count": null,
   "metadata": {},
   "outputs": [],
   "source": [
    "# Your code here!\n",
    "\n",
    "# START solution\n",
    "\n",
    "salaries %>% \n",
    "  summarize(median(BasePay),\n",
    "            mean(BasePay),\n",
    "            sd(BasePay),\n",
    "            min(BasePay),\n",
    "            max(BasePay)\n",
    "           )\n",
    "\n",
    "salaries %>%\n",
    "  filter(BasePay == max(BasePay))\n",
    "\n",
    "# looks like 212 jobs have $0 BasePay, but really aren't unpaid jobs. \n",
    "# In a future analysis, maybe we'd fix these rows or filter them out.\n",
    "salaries %>%\n",
    "  filter(BasePay == min(BasePay)) %>%\n",
    "  nrow()\n",
    "\n",
    "# END solution"
   ]
  },
  {
   "cell_type": "markdown",
   "metadata": {},
   "source": [
    "## A realistic sample of salaries"
   ]
  },
  {
   "cell_type": "markdown",
   "metadata": {},
   "source": [
    "Now, let's pretend that we don't have this data set, and instead we randomly \n",
    "sampled $n = 100$ SF city employees in 2014, and asked for their base\n",
    "salary. \n",
    "\n",
    "In other words, we only see $n$ random rows from `BasePay` column of\n",
    "the full data."
   ]
  },
  {
   "cell_type": "code",
   "execution_count": null,
   "metadata": {},
   "outputs": [],
   "source": [
    "n <- 100\n",
    "\n",
    "# `pull(df, col)` is identical to `df$col`,\n",
    "# but `pull` is pipeable!\n",
    "sample_basepay <- salaries %>% \n",
    "  sample_n(n) %>% \n",
    "  pull(BasePay)  \n",
    "\n",
    "print(sample_basepay)"
   ]
  },
  {
   "cell_type": "markdown",
   "metadata": {},
   "source": [
    "Using our \"observed\" data, we could estimate the median, assuming that \n",
    "our sample is representative of the population, by simply taking the median \n",
    "of the observed base pay:"
   ]
  },
  {
   "cell_type": "code",
   "execution_count": null,
   "metadata": {},
   "outputs": [],
   "source": [
    "median(sample_basepay)"
   ]
  },
  {
   "cell_type": "markdown",
   "metadata": {},
   "source": [
    "But now is the difficult part: what is the uncertainty is associated with our estimate? And how do we find the sampling distribution of our estimator? \n",
    "\n",
    "> Recall from last week's discussion that we can think of the **sampling distribution** of an estimator as the distribution of values that the estimator would take across many parallel universes."
   ]
  },
  {
   "cell_type": "markdown",
   "metadata": {},
   "source": [
    "## The idea"
   ]
  },
  {
   "cell_type": "markdown",
   "metadata": {},
   "source": [
    "One approach: we could (1) take multiple samples of salaries (\"parallel universes\"), (2) calculate an estimate of the median for each sample, and (3) compute the standard deviation of the estimates across parallel universes.\n",
    "\n",
    "The problem: parallel universes aren't easily accessible. For example, it may be costly to sample more than once.\n",
    "\n",
    "Potential solution: if we are willing to assume that our sample is representative of the\n",
    "population, we could use it to mimic parallel universes. **This is the core idea of the bootstrap.**"
   ]
  },
  {
   "cell_type": "markdown",
   "metadata": {},
   "source": [
    "## Bootstrap samples"
   ]
  },
  {
   "cell_type": "markdown",
   "metadata": {},
   "source": [
    "We can create an artificial universe by **resampling from our observed data with replacement**, and then computing our estimate over this new \"sample\".\n",
    "\n",
    "> 1. Draw $X_1^*,\\dots,X_{100}^* \\sim \\hat{F}_{100}$ \n",
    "> 2. Compute $T_{100}^* = median(X_1^*,\\dots,X_{100}^*)$\n",
    "\n",
    "An analogy would be to write down each of the 100 base rate salaries we collected, put them in an urn, and then randomly pull out numbers out of that urn. \n",
    "\n",
    "Let's try this in `R`!"
   ]
  },
  {
   "cell_type": "markdown",
   "metadata": {},
   "source": [
    "### Exercise\n",
    "\n",
    "Generate a single bootstrap sample from our sample of 100 salaries. Calculate the median of the bootstrap sample.\n",
    "\n",
    "Bonus: Write an `R` function `get_boot_median` to generate a bootstrapped median.\n",
    "\n",
    "Some things to keep in mind:\n",
    "\n",
    "- The `sample` command may come in handy. See `?sample`.\n",
    "- How many observations should we resample from our 100 salaries?\n",
    "- Why do we need to sample with replacement?"
   ]
  },
  {
   "cell_type": "code",
   "execution_count": null,
   "metadata": {},
   "outputs": [],
   "source": [
    "# Your code here!\n",
    "\n",
    "# START solution\n",
    "\n",
    "# We want to replicate the features of our estimator.\n",
    "# The size of our sample is a critical feature.\n",
    "# So, we should sample 100 times with replacement.\n",
    "\n",
    "# generate one bootstrap sample\n",
    "n <- length(sample_basepay)\n",
    "boot_sample <- sample(sample_basepay, n, replace = TRUE)\n",
    "print(\"One bootstrap sample:\")\n",
    "print(boot_sample)\n",
    "\n",
    "# find median of bootstrap sample\n",
    "print(\"Median of one bootstrap sample:\")\n",
    "print(median(boot_sample))\n",
    "\n",
    "# For convenience, we can functionalize this process.\n",
    "# get_boot_median() generates a bootstrapped median\n",
    "get_boot_median <- function() {\n",
    "    n <- length(sample_basepay)\n",
    "    boot_sample <- sample(sample_basepay, n, replace = TRUE)\n",
    "    \n",
    "    # the last line of an R function is automatically returned\n",
    "    median(boot_sample)\n",
    "}\n",
    "\n",
    "print(\"Bootstrapped median from get_boot_median():\")\n",
    "print(get_boot_median())\n",
    "\n",
    "# END solution"
   ]
  },
  {
   "cell_type": "markdown",
   "metadata": {},
   "source": [
    "## Bootstrapped sampling distribution"
   ]
  },
  {
   "cell_type": "markdown",
   "metadata": {},
   "source": [
    "We can repeat the process above many times to approximate the sampling distribution of the estimator for the median income.\n",
    "\n",
    "Note that we only use the bootstrapped sampling distribution to calculate the standard error of our estimator, not its expected value! Our best guess of the expected value is the median of the **original** sample of 100 incomes."
   ]
  },
  {
   "cell_type": "markdown",
   "metadata": {},
   "source": [
    "### Exercise\n",
    "\n",
    "Generate `B` bootstrap samples, and calculate the median of each sample. Using your `B` bootstrapped estimates of the median, calculate the standard error of our estimator of the median income, and construct a confidence interval for the median income using the normal approximation. \n",
    "\n",
    "Some things to keep in mind:\n",
    "\n",
    "- The `replicate` command may come in handy.\n",
    "- How many bootstrap samples should we generate? In other words, what's a good value of `B`?\n",
    "- What should be the point estimate of our confidence interval?\n",
    "- Is the normal approximation reasonable?\n"
   ]
  },
  {
   "cell_type": "code",
   "execution_count": null,
   "metadata": {},
   "outputs": [],
   "source": [
    "# Your code here!\n",
    "\n",
    "# START solution\n",
    "\n",
    "# B is chosen by balancing the computational power available to you, \n",
    "# and whether adding more replications makes a difference, numerically.\n",
    "# 10,000 is usually a good choice, but feel free to modify and explore. \n",
    "\n",
    "B <- 10000\n",
    "boot_medians <- replicate(B, get_boot_median())\n",
    "\n",
    "# Standard error of bootstrapped medians\n",
    "se_boot <- sd(boot_medians)\n",
    "print(\"Standard deviation of bootstrapped medians:\")\n",
    "print(se_boot)\n",
    "\n",
    "# The point estimate of our CI should be computed from the original data.\n",
    "# The bootstrap samples are only used to compute the standard error of the estimator!\n",
    "point_estimate <- median(sample_basepay)\n",
    "\n",
    "# Confidence interval\n",
    "ci_boot <- c(point_estimate - 2*se_boot, point_estimate + 2*se_boot)\n",
    "print(\"Bootstrapped confidence interval of the median income: \")\n",
    "print(ci_boot)\n",
    "\n",
    "# bootstrapped sampling distribution approximately normal\n",
    "hist(boot_medians)\n",
    "\n",
    "# END solution"
   ]
  },
  {
   "cell_type": "markdown",
   "metadata": {},
   "source": [
    "## Pivotal interval\n",
    "\n",
    "Computing confidence intervals with the normal approximation assumes that the sampling distribution is normal. \n",
    "\n",
    "What if we aren't confident in this assumption? We can use the pivotal method:\n",
    "$\\left(2 \\hat{\\theta} - \\hat{\\theta}^*_{1-\\alpha/2}, 2 \\hat{\\theta} - \\hat{\\theta}^*_{\\alpha/2}\\right)$\n",
    "\n",
    "Note that the pivotal method still assumes that the bootstrapped sampling distribution is a good approximation of the true sampling distribution. The sampling distribution just doesn't have to be normal!"
   ]
  },
  {
   "cell_type": "markdown",
   "metadata": {},
   "source": [
    "### Exercise\n",
    "\n",
    "Compute the pivotal interval of the median income. "
   ]
  },
  {
   "cell_type": "code",
   "execution_count": null,
   "metadata": {},
   "outputs": [],
   "source": [
    "# Your code here!\n",
    "\n",
    "# START solution\n",
    "\n",
    "theta_hat <- median(sample_basepay)\n",
    "theta_hat_star_lower <- quantile(boot_medians, 0.975, names=FALSE)\n",
    "theta_hat_star_upper <- quantile(boot_medians, 0.025, names=FALSE)\n",
    "\n",
    "ci_pivotal <- 2 * theta_hat - c(theta_hat_star_lower, theta_hat_star_upper)\n",
    "print(ci_pivotal)\n",
    "\n",
    "# END solution"
   ]
  }
 ],
 "metadata": {
  "kernelspec": {
   "display_name": "R",
   "language": "R",
   "name": "ir"
  },
  "language_info": {
   "codemirror_mode": "r",
   "file_extension": ".r",
   "mimetype": "text/x-r-source",
   "name": "R",
   "pygments_lexer": "r",
   "version": "3.6.3"
  }
 },
 "nbformat": 4,
 "nbformat_minor": 4
}
